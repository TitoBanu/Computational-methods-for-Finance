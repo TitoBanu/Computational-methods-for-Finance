{
 "cells": [
  {
   "cell_type": "code",
   "execution_count": 1,
   "metadata": {},
   "outputs": [],
   "source": [
    "import numpy as np\n",
    "import pandas as pd\n",
    "import matplotlib\n",
    "import matplotlib.pyplot as plt\n",
    "\n",
    "\n",
    "import yfinance as yf\n",
    "import os"
   ]
  },
  {
   "cell_type": "code",
   "execution_count": null,
   "metadata": {},
   "outputs": [],
   "source": []
  },
  {
   "cell_type": "markdown",
   "metadata": {},
   "source": [
    "## Import File"
   ]
  },
  {
   "cell_type": "markdown",
   "metadata": {},
   "source": [
    "#### 6 months"
   ]
  },
  {
   "cell_type": "code",
   "execution_count": 2,
   "metadata": {},
   "outputs": [
    {
     "name": "stdout",
     "output_type": "stream",
     "text": [
      "[*********************100%***********************]  1 of 1 completed\n"
     ]
    }
   ],
   "source": [
    "data_6m = yf.download('JNJ', start='2020-09-01', end='2021-03-01')"
   ]
  },
  {
   "cell_type": "code",
   "execution_count": 3,
   "metadata": {},
   "outputs": [
    {
     "data": {
      "text/plain": [
       "Date\n",
       "2020-08-31    151.407211\n",
       "2020-09-01    149.541885\n",
       "2020-09-02    151.821732\n",
       "2020-09-03    147.597610\n",
       "2020-09-04    146.650131\n",
       "                 ...    \n",
       "2021-02-22    161.869995\n",
       "2021-02-23    160.440002\n",
       "2021-02-24    162.589996\n",
       "2021-02-25    162.759995\n",
       "2021-02-26    158.460007\n",
       "Name: Adj Close, Length: 124, dtype: float64"
      ]
     },
     "execution_count": 3,
     "metadata": {},
     "output_type": "execute_result"
    }
   ],
   "source": [
    "Stock_6m = data_6m['Adj Close']\n",
    "Stock_6m"
   ]
  },
  {
   "cell_type": "code",
   "execution_count": null,
   "metadata": {},
   "outputs": [],
   "source": []
  },
  {
   "cell_type": "markdown",
   "metadata": {},
   "source": [
    "#### 12 months"
   ]
  },
  {
   "cell_type": "code",
   "execution_count": 4,
   "metadata": {},
   "outputs": [
    {
     "name": "stdout",
     "output_type": "stream",
     "text": [
      "[*********************100%***********************]  1 of 1 completed\n"
     ]
    },
    {
     "data": {
      "text/html": [
       "<div>\n",
       "<style scoped>\n",
       "    .dataframe tbody tr th:only-of-type {\n",
       "        vertical-align: middle;\n",
       "    }\n",
       "\n",
       "    .dataframe tbody tr th {\n",
       "        vertical-align: top;\n",
       "    }\n",
       "\n",
       "    .dataframe thead th {\n",
       "        text-align: right;\n",
       "    }\n",
       "</style>\n",
       "<table border=\"1\" class=\"dataframe\">\n",
       "  <thead>\n",
       "    <tr style=\"text-align: right;\">\n",
       "      <th></th>\n",
       "      <th>Open</th>\n",
       "      <th>High</th>\n",
       "      <th>Low</th>\n",
       "      <th>Close</th>\n",
       "      <th>Adj Close</th>\n",
       "      <th>Volume</th>\n",
       "    </tr>\n",
       "    <tr>\n",
       "      <th>Date</th>\n",
       "      <th></th>\n",
       "      <th></th>\n",
       "      <th></th>\n",
       "      <th></th>\n",
       "      <th></th>\n",
       "      <th></th>\n",
       "    </tr>\n",
       "  </thead>\n",
       "  <tbody>\n",
       "    <tr>\n",
       "      <th>2020-03-02</th>\n",
       "      <td>134.779999</td>\n",
       "      <td>140.130005</td>\n",
       "      <td>134.009995</td>\n",
       "      <td>140.020004</td>\n",
       "      <td>136.333267</td>\n",
       "      <td>11508200</td>\n",
       "    </tr>\n",
       "    <tr>\n",
       "      <th>2020-03-03</th>\n",
       "      <td>140.000000</td>\n",
       "      <td>140.990005</td>\n",
       "      <td>133.100006</td>\n",
       "      <td>135.589996</td>\n",
       "      <td>132.019913</td>\n",
       "      <td>13662500</td>\n",
       "    </tr>\n",
       "    <tr>\n",
       "      <th>2020-03-04</th>\n",
       "      <td>137.679993</td>\n",
       "      <td>143.639999</td>\n",
       "      <td>137.139999</td>\n",
       "      <td>143.479996</td>\n",
       "      <td>139.702164</td>\n",
       "      <td>10560500</td>\n",
       "    </tr>\n",
       "    <tr>\n",
       "      <th>2020-03-05</th>\n",
       "      <td>140.800003</td>\n",
       "      <td>142.679993</td>\n",
       "      <td>139.839996</td>\n",
       "      <td>142.009995</td>\n",
       "      <td>138.270859</td>\n",
       "      <td>11339200</td>\n",
       "    </tr>\n",
       "    <tr>\n",
       "      <th>2020-03-06</th>\n",
       "      <td>138.479996</td>\n",
       "      <td>143.009995</td>\n",
       "      <td>137.410004</td>\n",
       "      <td>142.029999</td>\n",
       "      <td>138.290344</td>\n",
       "      <td>12239100</td>\n",
       "    </tr>\n",
       "    <tr>\n",
       "      <th>...</th>\n",
       "      <td>...</td>\n",
       "      <td>...</td>\n",
       "      <td>...</td>\n",
       "      <td>...</td>\n",
       "      <td>...</td>\n",
       "      <td>...</td>\n",
       "    </tr>\n",
       "    <tr>\n",
       "      <th>2021-02-22</th>\n",
       "      <td>161.869995</td>\n",
       "      <td>162.539993</td>\n",
       "      <td>160.289993</td>\n",
       "      <td>161.869995</td>\n",
       "      <td>161.869995</td>\n",
       "      <td>6447100</td>\n",
       "    </tr>\n",
       "    <tr>\n",
       "      <th>2021-02-23</th>\n",
       "      <td>161.479996</td>\n",
       "      <td>163.190002</td>\n",
       "      <td>160.399994</td>\n",
       "      <td>160.440002</td>\n",
       "      <td>160.440002</td>\n",
       "      <td>7042800</td>\n",
       "    </tr>\n",
       "    <tr>\n",
       "      <th>2021-02-24</th>\n",
       "      <td>162.399994</td>\n",
       "      <td>164.389999</td>\n",
       "      <td>160.919998</td>\n",
       "      <td>162.589996</td>\n",
       "      <td>162.589996</td>\n",
       "      <td>10286100</td>\n",
       "    </tr>\n",
       "    <tr>\n",
       "      <th>2021-02-25</th>\n",
       "      <td>163.130005</td>\n",
       "      <td>163.699997</td>\n",
       "      <td>161.990005</td>\n",
       "      <td>162.759995</td>\n",
       "      <td>162.759995</td>\n",
       "      <td>9719700</td>\n",
       "    </tr>\n",
       "    <tr>\n",
       "      <th>2021-02-26</th>\n",
       "      <td>162.000000</td>\n",
       "      <td>162.410004</td>\n",
       "      <td>157.970001</td>\n",
       "      <td>158.460007</td>\n",
       "      <td>158.460007</td>\n",
       "      <td>14356800</td>\n",
       "    </tr>\n",
       "  </tbody>\n",
       "</table>\n",
       "<p>251 rows × 6 columns</p>\n",
       "</div>"
      ],
      "text/plain": [
       "                  Open        High         Low       Close   Adj Close  \\\n",
       "Date                                                                     \n",
       "2020-03-02  134.779999  140.130005  134.009995  140.020004  136.333267   \n",
       "2020-03-03  140.000000  140.990005  133.100006  135.589996  132.019913   \n",
       "2020-03-04  137.679993  143.639999  137.139999  143.479996  139.702164   \n",
       "2020-03-05  140.800003  142.679993  139.839996  142.009995  138.270859   \n",
       "2020-03-06  138.479996  143.009995  137.410004  142.029999  138.290344   \n",
       "...                ...         ...         ...         ...         ...   \n",
       "2021-02-22  161.869995  162.539993  160.289993  161.869995  161.869995   \n",
       "2021-02-23  161.479996  163.190002  160.399994  160.440002  160.440002   \n",
       "2021-02-24  162.399994  164.389999  160.919998  162.589996  162.589996   \n",
       "2021-02-25  163.130005  163.699997  161.990005  162.759995  162.759995   \n",
       "2021-02-26  162.000000  162.410004  157.970001  158.460007  158.460007   \n",
       "\n",
       "              Volume  \n",
       "Date                  \n",
       "2020-03-02  11508200  \n",
       "2020-03-03  13662500  \n",
       "2020-03-04  10560500  \n",
       "2020-03-05  11339200  \n",
       "2020-03-06  12239100  \n",
       "...              ...  \n",
       "2021-02-22   6447100  \n",
       "2021-02-23   7042800  \n",
       "2021-02-24  10286100  \n",
       "2021-02-25   9719700  \n",
       "2021-02-26  14356800  \n",
       "\n",
       "[251 rows x 6 columns]"
      ]
     },
     "execution_count": 4,
     "metadata": {},
     "output_type": "execute_result"
    }
   ],
   "source": [
    "data_12m = yf.download('JNJ', start='2020-03-01', end='2021-03-01')\n",
    "data_12m"
   ]
  },
  {
   "cell_type": "code",
   "execution_count": 5,
   "metadata": {},
   "outputs": [
    {
     "data": {
      "text/plain": [
       "Date\n",
       "2020-03-02    136.333267\n",
       "2020-03-03    132.019913\n",
       "2020-03-04    139.702164\n",
       "2020-03-05    138.270859\n",
       "2020-03-06    138.290344\n",
       "                 ...    \n",
       "2021-02-22    161.869995\n",
       "2021-02-23    160.440002\n",
       "2021-02-24    162.589996\n",
       "2021-02-25    162.759995\n",
       "2021-02-26    158.460007\n",
       "Name: Adj Close, Length: 251, dtype: float64"
      ]
     },
     "execution_count": 5,
     "metadata": {},
     "output_type": "execute_result"
    }
   ],
   "source": [
    "Stock = data_12m['Adj Close']\n",
    "Stock"
   ]
  },
  {
   "cell_type": "code",
   "execution_count": null,
   "metadata": {},
   "outputs": [],
   "source": []
  },
  {
   "cell_type": "markdown",
   "metadata": {},
   "source": [
    "### Plot Movement of Adj Close Price"
   ]
  },
  {
   "cell_type": "code",
   "execution_count": 6,
   "metadata": {},
   "outputs": [
    {
     "data": {
      "image/png": "[encoded data removed]",
      "text/plain": [
       "<Figure size 1008x432 with 1 Axes>"
      ]
     },
     "metadata": {
      "needs_background": "light"
     },
     "output_type": "display_data"
    }
   ],
   "source": [
    "matplotlib.rcParams['figure.figsize'] = [14.0, 6.0]\n",
    "\n",
    "plt.plot(Stock)\n",
    "plt.xlabel('Days')\n",
    "plt.ylabel('Price ($)')\n",
    "plt.title('Adj Closed Price')\n",
    "\n",
    "plt.show()"
   ]
  },
  {
   "cell_type": "code",
   "execution_count": null,
   "metadata": {},
   "outputs": [],
   "source": []
  },
  {
   "cell_type": "markdown",
   "metadata": {},
   "source": [
    "## Return and Volatility"
   ]
  },
  {
   "cell_type": "markdown",
   "metadata": {},
   "source": [
    "### 6 Months\n"
   ]
  },
  {
   "cell_type": "markdown",
   "metadata": {},
   "source": [
    "##### Return"
   ]
  },
  {
   "cell_type": "code",
   "execution_count": 7,
   "metadata": {},
   "outputs": [
    {
     "data": {
      "text/html": [
       "<div>\n",
       "<style scoped>\n",
       "    .dataframe tbody tr th:only-of-type {\n",
       "        vertical-align: middle;\n",
       "    }\n",
       "\n",
       "    .dataframe tbody tr th {\n",
       "        vertical-align: top;\n",
       "    }\n",
       "\n",
       "    .dataframe thead th {\n",
       "        text-align: right;\n",
       "    }\n",
       "</style>\n",
       "<table border=\"1\" class=\"dataframe\">\n",
       "  <thead>\n",
       "    <tr style=\"text-align: right;\">\n",
       "      <th></th>\n",
       "      <th>Open</th>\n",
       "      <th>High</th>\n",
       "      <th>Low</th>\n",
       "      <th>Close</th>\n",
       "      <th>Adj Close</th>\n",
       "      <th>Volume</th>\n",
       "      <th>Return</th>\n",
       "    </tr>\n",
       "    <tr>\n",
       "      <th>Date</th>\n",
       "      <th></th>\n",
       "      <th></th>\n",
       "      <th></th>\n",
       "      <th></th>\n",
       "      <th></th>\n",
       "      <th></th>\n",
       "      <th></th>\n",
       "    </tr>\n",
       "  </thead>\n",
       "  <tbody>\n",
       "    <tr>\n",
       "      <th>2020-08-31</th>\n",
       "      <td>153.000000</td>\n",
       "      <td>154.399994</td>\n",
       "      <td>152.259995</td>\n",
       "      <td>153.410004</td>\n",
       "      <td>151.407211</td>\n",
       "      <td>6362700</td>\n",
       "      <td>NaN</td>\n",
       "    </tr>\n",
       "    <tr>\n",
       "      <th>2020-09-01</th>\n",
       "      <td>153.869995</td>\n",
       "      <td>154.080002</td>\n",
       "      <td>150.070007</td>\n",
       "      <td>151.520004</td>\n",
       "      <td>149.541885</td>\n",
       "      <td>6309200</td>\n",
       "      <td>-0.012320</td>\n",
       "    </tr>\n",
       "    <tr>\n",
       "      <th>2020-09-02</th>\n",
       "      <td>150.789993</td>\n",
       "      <td>154.330002</td>\n",
       "      <td>149.250000</td>\n",
       "      <td>153.830002</td>\n",
       "      <td>151.821732</td>\n",
       "      <td>6881900</td>\n",
       "      <td>0.015246</td>\n",
       "    </tr>\n",
       "    <tr>\n",
       "      <th>2020-09-03</th>\n",
       "      <td>154.830002</td>\n",
       "      <td>155.470001</td>\n",
       "      <td>148.300003</td>\n",
       "      <td>149.550003</td>\n",
       "      <td>147.597610</td>\n",
       "      <td>8672800</td>\n",
       "      <td>-0.027823</td>\n",
       "    </tr>\n",
       "    <tr>\n",
       "      <th>2020-09-04</th>\n",
       "      <td>150.169998</td>\n",
       "      <td>150.949997</td>\n",
       "      <td>147.130005</td>\n",
       "      <td>148.589996</td>\n",
       "      <td>146.650131</td>\n",
       "      <td>7200100</td>\n",
       "      <td>-0.006419</td>\n",
       "    </tr>\n",
       "    <tr>\n",
       "      <th>...</th>\n",
       "      <td>...</td>\n",
       "      <td>...</td>\n",
       "      <td>...</td>\n",
       "      <td>...</td>\n",
       "      <td>...</td>\n",
       "      <td>...</td>\n",
       "      <td>...</td>\n",
       "    </tr>\n",
       "    <tr>\n",
       "      <th>2021-02-22</th>\n",
       "      <td>161.869995</td>\n",
       "      <td>162.539993</td>\n",
       "      <td>160.289993</td>\n",
       "      <td>161.869995</td>\n",
       "      <td>161.869995</td>\n",
       "      <td>6447100</td>\n",
       "      <td>-0.000617</td>\n",
       "    </tr>\n",
       "    <tr>\n",
       "      <th>2021-02-23</th>\n",
       "      <td>161.479996</td>\n",
       "      <td>163.190002</td>\n",
       "      <td>160.399994</td>\n",
       "      <td>160.440002</td>\n",
       "      <td>160.440002</td>\n",
       "      <td>7042800</td>\n",
       "      <td>-0.008834</td>\n",
       "    </tr>\n",
       "    <tr>\n",
       "      <th>2021-02-24</th>\n",
       "      <td>162.399994</td>\n",
       "      <td>164.389999</td>\n",
       "      <td>160.919998</td>\n",
       "      <td>162.589996</td>\n",
       "      <td>162.589996</td>\n",
       "      <td>10286100</td>\n",
       "      <td>0.013401</td>\n",
       "    </tr>\n",
       "    <tr>\n",
       "      <th>2021-02-25</th>\n",
       "      <td>163.130005</td>\n",
       "      <td>163.699997</td>\n",
       "      <td>161.990005</td>\n",
       "      <td>162.759995</td>\n",
       "      <td>162.759995</td>\n",
       "      <td>9719700</td>\n",
       "      <td>0.001046</td>\n",
       "    </tr>\n",
       "    <tr>\n",
       "      <th>2021-02-26</th>\n",
       "      <td>162.000000</td>\n",
       "      <td>162.410004</td>\n",
       "      <td>157.970001</td>\n",
       "      <td>158.460007</td>\n",
       "      <td>158.460007</td>\n",
       "      <td>14356800</td>\n",
       "      <td>-0.026419</td>\n",
       "    </tr>\n",
       "  </tbody>\n",
       "</table>\n",
       "<p>124 rows × 7 columns</p>\n",
       "</div>"
      ],
      "text/plain": [
       "                  Open        High         Low       Close   Adj Close  \\\n",
       "Date                                                                     \n",
       "2020-08-31  153.000000  154.399994  152.259995  153.410004  151.407211   \n",
       "2020-09-01  153.869995  154.080002  150.070007  151.520004  149.541885   \n",
       "2020-09-02  150.789993  154.330002  149.250000  153.830002  151.821732   \n",
       "2020-09-03  154.830002  155.470001  148.300003  149.550003  147.597610   \n",
       "2020-09-04  150.169998  150.949997  147.130005  148.589996  146.650131   \n",
       "...                ...         ...         ...         ...         ...   \n",
       "2021-02-22  161.869995  162.539993  160.289993  161.869995  161.869995   \n",
       "2021-02-23  161.479996  163.190002  160.399994  160.440002  160.440002   \n",
       "2021-02-24  162.399994  164.389999  160.919998  162.589996  162.589996   \n",
       "2021-02-25  163.130005  163.699997  161.990005  162.759995  162.759995   \n",
       "2021-02-26  162.000000  162.410004  157.970001  158.460007  158.460007   \n",
       "\n",
       "              Volume    Return  \n",
       "Date                            \n",
       "2020-08-31   6362700       NaN  \n",
       "2020-09-01   6309200 -0.012320  \n",
       "2020-09-02   6881900  0.015246  \n",
       "2020-09-03   8672800 -0.027823  \n",
       "2020-09-04   7200100 -0.006419  \n",
       "...              ...       ...  \n",
       "2021-02-22   6447100 -0.000617  \n",
       "2021-02-23   7042800 -0.008834  \n",
       "2021-02-24  10286100  0.013401  \n",
       "2021-02-25   9719700  0.001046  \n",
       "2021-02-26  14356800 -0.026419  \n",
       "\n",
       "[124 rows x 7 columns]"
      ]
     },
     "execution_count": 7,
     "metadata": {},
     "output_type": "execute_result"
    }
   ],
   "source": [
    "data_6m['Return']=data_6m['Adj Close'].pct_change()\n",
    "data_6m"
   ]
  },
  {
   "cell_type": "markdown",
   "metadata": {},
   "source": [
    "#### Volatility"
   ]
  },
  {
   "cell_type": "code",
   "execution_count": 8,
   "metadata": {},
   "outputs": [
    {
     "data": {
      "text/plain": [
       "0.1892010284495502"
      ]
     },
     "execution_count": 8,
     "metadata": {},
     "output_type": "execute_result"
    }
   ],
   "source": [
    "rtn_6m = data_6m['Return'].dropna()\n",
    "vol_6m = rtn_6m.std() * np.sqrt(252)\n",
    "vol_6m"
   ]
  },
  {
   "cell_type": "code",
   "execution_count": null,
   "metadata": {},
   "outputs": [],
   "source": []
  },
  {
   "cell_type": "markdown",
   "metadata": {},
   "source": [
    "### 12 Month"
   ]
  },
  {
   "cell_type": "markdown",
   "metadata": {},
   "source": [
    "##### Return"
   ]
  },
  {
   "cell_type": "code",
   "execution_count": 9,
   "metadata": {},
   "outputs": [
    {
     "data": {
      "text/html": [
       "<div>\n",
       "<style scoped>\n",
       "    .dataframe tbody tr th:only-of-type {\n",
       "        vertical-align: middle;\n",
       "    }\n",
       "\n",
       "    .dataframe tbody tr th {\n",
       "        vertical-align: top;\n",
       "    }\n",
       "\n",
       "    .dataframe thead th {\n",
       "        text-align: right;\n",
       "    }\n",
       "</style>\n",
       "<table border=\"1\" class=\"dataframe\">\n",
       "  <thead>\n",
       "    <tr style=\"text-align: right;\">\n",
       "      <th></th>\n",
       "      <th>Open</th>\n",
       "      <th>High</th>\n",
       "      <th>Low</th>\n",
       "      <th>Close</th>\n",
       "      <th>Adj Close</th>\n",
       "      <th>Volume</th>\n",
       "      <th>Return</th>\n",
       "    </tr>\n",
       "    <tr>\n",
       "      <th>Date</th>\n",
       "      <th></th>\n",
       "      <th></th>\n",
       "      <th></th>\n",
       "      <th></th>\n",
       "      <th></th>\n",
       "      <th></th>\n",
       "      <th></th>\n",
       "    </tr>\n",
       "  </thead>\n",
       "  <tbody>\n",
       "    <tr>\n",
       "      <th>2020-03-02</th>\n",
       "      <td>134.779999</td>\n",
       "      <td>140.130005</td>\n",
       "      <td>134.009995</td>\n",
       "      <td>140.020004</td>\n",
       "      <td>136.333267</td>\n",
       "      <td>11508200</td>\n",
       "      <td>NaN</td>\n",
       "    </tr>\n",
       "    <tr>\n",
       "      <th>2020-03-03</th>\n",
       "      <td>140.000000</td>\n",
       "      <td>140.990005</td>\n",
       "      <td>133.100006</td>\n",
       "      <td>135.589996</td>\n",
       "      <td>132.019913</td>\n",
       "      <td>13662500</td>\n",
       "      <td>-0.031638</td>\n",
       "    </tr>\n",
       "    <tr>\n",
       "      <th>2020-03-04</th>\n",
       "      <td>137.679993</td>\n",
       "      <td>143.639999</td>\n",
       "      <td>137.139999</td>\n",
       "      <td>143.479996</td>\n",
       "      <td>139.702164</td>\n",
       "      <td>10560500</td>\n",
       "      <td>0.058190</td>\n",
       "    </tr>\n",
       "    <tr>\n",
       "      <th>2020-03-05</th>\n",
       "      <td>140.800003</td>\n",
       "      <td>142.679993</td>\n",
       "      <td>139.839996</td>\n",
       "      <td>142.009995</td>\n",
       "      <td>138.270859</td>\n",
       "      <td>11339200</td>\n",
       "      <td>-0.010245</td>\n",
       "    </tr>\n",
       "    <tr>\n",
       "      <th>2020-03-06</th>\n",
       "      <td>138.479996</td>\n",
       "      <td>143.009995</td>\n",
       "      <td>137.410004</td>\n",
       "      <td>142.029999</td>\n",
       "      <td>138.290344</td>\n",
       "      <td>12239100</td>\n",
       "      <td>0.000141</td>\n",
       "    </tr>\n",
       "    <tr>\n",
       "      <th>...</th>\n",
       "      <td>...</td>\n",
       "      <td>...</td>\n",
       "      <td>...</td>\n",
       "      <td>...</td>\n",
       "      <td>...</td>\n",
       "      <td>...</td>\n",
       "      <td>...</td>\n",
       "    </tr>\n",
       "    <tr>\n",
       "      <th>2021-02-22</th>\n",
       "      <td>161.869995</td>\n",
       "      <td>162.539993</td>\n",
       "      <td>160.289993</td>\n",
       "      <td>161.869995</td>\n",
       "      <td>161.869995</td>\n",
       "      <td>6447100</td>\n",
       "      <td>-0.000617</td>\n",
       "    </tr>\n",
       "    <tr>\n",
       "      <th>2021-02-23</th>\n",
       "      <td>161.479996</td>\n",
       "      <td>163.190002</td>\n",
       "      <td>160.399994</td>\n",
       "      <td>160.440002</td>\n",
       "      <td>160.440002</td>\n",
       "      <td>7042800</td>\n",
       "      <td>-0.008834</td>\n",
       "    </tr>\n",
       "    <tr>\n",
       "      <th>2021-02-24</th>\n",
       "      <td>162.399994</td>\n",
       "      <td>164.389999</td>\n",
       "      <td>160.919998</td>\n",
       "      <td>162.589996</td>\n",
       "      <td>162.589996</td>\n",
       "      <td>10286100</td>\n",
       "      <td>0.013401</td>\n",
       "    </tr>\n",
       "    <tr>\n",
       "      <th>2021-02-25</th>\n",
       "      <td>163.130005</td>\n",
       "      <td>163.699997</td>\n",
       "      <td>161.990005</td>\n",
       "      <td>162.759995</td>\n",
       "      <td>162.759995</td>\n",
       "      <td>9719700</td>\n",
       "      <td>0.001046</td>\n",
       "    </tr>\n",
       "    <tr>\n",
       "      <th>2021-02-26</th>\n",
       "      <td>162.000000</td>\n",
       "      <td>162.410004</td>\n",
       "      <td>157.970001</td>\n",
       "      <td>158.460007</td>\n",
       "      <td>158.460007</td>\n",
       "      <td>14356800</td>\n",
       "      <td>-0.026419</td>\n",
       "    </tr>\n",
       "  </tbody>\n",
       "</table>\n",
       "<p>251 rows × 7 columns</p>\n",
       "</div>"
      ],
      "text/plain": [
       "                  Open        High         Low       Close   Adj Close  \\\n",
       "Date                                                                     \n",
       "2020-03-02  134.779999  140.130005  134.009995  140.020004  136.333267   \n",
       "2020-03-03  140.000000  140.990005  133.100006  135.589996  132.019913   \n",
       "2020-03-04  137.679993  143.639999  137.139999  143.479996  139.702164   \n",
       "2020-03-05  140.800003  142.679993  139.839996  142.009995  138.270859   \n",
       "2020-03-06  138.479996  143.009995  137.410004  142.029999  138.290344   \n",
       "...                ...         ...         ...         ...         ...   \n",
       "2021-02-22  161.869995  162.539993  160.289993  161.869995  161.869995   \n",
       "2021-02-23  161.479996  163.190002  160.399994  160.440002  160.440002   \n",
       "2021-02-24  162.399994  164.389999  160.919998  162.589996  162.589996   \n",
       "2021-02-25  163.130005  163.699997  161.990005  162.759995  162.759995   \n",
       "2021-02-26  162.000000  162.410004  157.970001  158.460007  158.460007   \n",
       "\n",
       "              Volume    Return  \n",
       "Date                            \n",
       "2020-03-02  11508200       NaN  \n",
       "2020-03-03  13662500 -0.031638  \n",
       "2020-03-04  10560500  0.058190  \n",
       "2020-03-05  11339200 -0.010245  \n",
       "2020-03-06  12239100  0.000141  \n",
       "...              ...       ...  \n",
       "2021-02-22   6447100 -0.000617  \n",
       "2021-02-23   7042800 -0.008834  \n",
       "2021-02-24  10286100  0.013401  \n",
       "2021-02-25   9719700  0.001046  \n",
       "2021-02-26  14356800 -0.026419  \n",
       "\n",
       "[251 rows x 7 columns]"
      ]
     },
     "execution_count": 9,
     "metadata": {},
     "output_type": "execute_result"
    }
   ],
   "source": [
    "data_12m['Return'] = data_12m['Adj Close'].pct_change()\n",
    "data_12m"
   ]
  },
  {
   "cell_type": "markdown",
   "metadata": {},
   "source": [
    "##### Volatility"
   ]
  },
  {
   "cell_type": "code",
   "execution_count": 10,
   "metadata": {},
   "outputs": [
    {
     "data": {
      "text/plain": [
       "0.30388721701268273"
      ]
     },
     "execution_count": 10,
     "metadata": {},
     "output_type": "execute_result"
    }
   ],
   "source": [
    "S_rtn = data_12m['Return'].dropna()\n",
    "Stock_vol =  S_rtn.std() * np.sqrt(252)\n",
    "Stock_vol"
   ]
  },
  {
   "cell_type": "code",
   "execution_count": null,
   "metadata": {},
   "outputs": [],
   "source": []
  },
  {
   "cell_type": "markdown",
   "metadata": {},
   "source": [
    "#### Comparison of 6 & 12 months Volatility"
   ]
  },
  {
   "cell_type": "code",
   "execution_count": 11,
   "metadata": {},
   "outputs": [
    {
     "name": "stdout",
     "output_type": "stream",
     "text": [
      "The 12 month volatility =  0.30388721701268273 \n",
      "\n",
      " The 6 month volatility =  0.1892010284495502\n"
     ]
    }
   ],
   "source": [
    "print('The 12 month volatility = ', Stock_vol, '\\n\\n The 6 month volatility = ',vol_6m)"
   ]
  },
  {
   "cell_type": "code",
   "execution_count": null,
   "metadata": {},
   "outputs": [],
   "source": []
  },
  {
   "cell_type": "code",
   "execution_count": null,
   "metadata": {},
   "outputs": [],
   "source": []
  },
  {
   "cell_type": "markdown",
   "metadata": {},
   "source": [
    "## Parameters"
   ]
  },
  {
   "cell_type": "code",
   "execution_count": 12,
   "metadata": {},
   "outputs": [],
   "source": [
    "S0 = Stock[-1]             # spot stock price (158.46)\n",
    "K = Stock.mean()        # Strike Price, based on mean of 12 month historical data (145.751169)\n",
    "T = 1.0                 # maturity \n",
    "r = 0.1                 # risk free rate \n",
    "sig = Stock_vol               # 12 month volatility\n",
    "N = 4                  # number of periods or number of time steps \n"
   ]
  },
  {
   "cell_type": "code",
   "execution_count": null,
   "metadata": {},
   "outputs": [],
   "source": []
  },
  {
   "cell_type": "markdown",
   "metadata": {},
   "source": [
    "# Binomial Tree"
   ]
  },
  {
   "cell_type": "code",
   "execution_count": 153,
   "metadata": {},
   "outputs": [],
   "source": [
    "def simulate_tree(M):\n",
    "    dt=T/M\n",
    "    u = np.exp(sig*np.sqrt(dt))\n",
    "    d= 1/u\n",
    "    S = np.zeros((M+1,M+1))\n",
    "    S[0,0]= S0\n",
    "    z = 1\n",
    "    for t in range(1, M+1):\n",
    "        for i in range(z):\n",
    "            S[i,t] = S[i, t-1] *u\n",
    "            S[i+1,t] = S[i, t-1] *d\n",
    "        z += 1\n",
    "        \n",
    "    # Final node\n",
    "    V = S.copy()[:,-1]\n",
    "\n",
    "    # Payoffs\n",
    "    V[V<=K] = 1\n",
    "    V[V>K] = 0\n",
    "    payoffs = V.sum()\n",
    " \n",
    "    \n",
    "    # Option value\n",
    "    Option_Val = np.exp(-r*dt) * (payoffs/V.shape)\n",
    "    \n",
    "    Output = print('The number of payoffs = ', payoffs, '\\n\\nPut Option Value = ', Option_Val)\n",
    "    return Output"
   ]
  },
  {
   "cell_type": "code",
   "execution_count": 154,
   "metadata": {},
   "outputs": [
    {
     "name": "stdout",
     "output_type": "stream",
     "text": [
      "The number of payoffs =  2.0 \n",
      "\n",
      "Put Option Value =  [0.39012396]\n"
     ]
    }
   ],
   "source": [
    "simulate_tree(N)"
   ]
  },
  {
   "cell_type": "code",
   "execution_count": null,
   "metadata": {},
   "outputs": [],
   "source": []
  },
  {
   "cell_type": "code",
   "execution_count": null,
   "metadata": {},
   "outputs": [],
   "source": []
  },
  {
   "cell_type": "markdown",
   "metadata": {},
   "source": [
    "# Monte Carlo Simulation"
   ]
  },
  {
   "cell_type": "code",
   "execution_count": 148,
   "metadata": {},
   "outputs": [],
   "source": [
    "def mcs_simulation_py(M, I):\n",
    "    # I = number of iterations\n",
    "    # M = number of periods\n",
    "    dt = T/M\n",
    "    \n",
    "    # Simulation\n",
    "    S = np.zeros((M+1,I))\n",
    "    S[0] = S0\n",
    "    rn = np.random.standard_normal(S.shape)\n",
    "    for t in range(1, M+1):\n",
    "        for i in range(I):\n",
    "            S[t,i] = S[t-1,i] * np.exp((r-sig**2/2)*dt + sig*np.sqrt(dt)* rn[t,i])\n",
    "    S = S.T        # Transpose \n",
    "    V = S.copy()[:,-1]\n",
    "    \n",
    "    # Payoffs\n",
    "    V[V<=K] = 1\n",
    "    V[V>K] = 0\n",
    "    payoffs = V.sum()\n",
    "    \n",
    "    # Option value\n",
    "    Option_Val = np.exp(-r*dt) * (payoffs/V.shape)\n",
    "    \n",
    "    Output = print('The number of payoffs = ', payoffs, '\\n\\nPut Option Value = ', Option_Val)\n",
    "    return Output"
   ]
  },
  {
   "cell_type": "code",
   "execution_count": 155,
   "metadata": {},
   "outputs": [
    {
     "name": "stdout",
     "output_type": "stream",
     "text": [
      "The number of payoffs =  2.0 \n",
      "\n",
      "Put Option Value =  [0.39012396]\n"
     ]
    }
   ],
   "source": [
    "mcs_simulation_py(N,N)"
   ]
  },
  {
   "cell_type": "code",
   "execution_count": null,
   "metadata": {},
   "outputs": [],
   "source": []
  },
  {
   "cell_type": "code",
   "execution_count": null,
   "metadata": {},
   "outputs": [],
   "source": []
  },
  {
   "cell_type": "code",
   "execution_count": null,
   "metadata": {},
   "outputs": [],
   "source": []
  },
  {
   "cell_type": "code",
   "execution_count": null,
   "metadata": {},
   "outputs": [],
   "source": []
  },
  {
   "cell_type": "code",
   "execution_count": null,
   "metadata": {},
   "outputs": [],
   "source": []
  }
 ],
 "metadata": {
  "kernelspec": {
   "display_name": "Python 3",
   "language": "python",
   "name": "python3"
  },
  "language_info": {
   "codemirror_mode": {
    "name": "ipython",
    "version": 3
   },
   "file_extension": ".py",
   "mimetype": "text/x-python",
   "name": "python",
   "nbconvert_exporter": "python",
   "pygments_lexer": "ipython3",
   "version": "3.7.6"
  }
 },
 "nbformat": 4,
 "nbformat_minor": 4
}
